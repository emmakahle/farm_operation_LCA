{
 "cells": [
  {
   "cell_type": "markdown",
   "metadata": {},
   "source": [
    "# Life Cycle Analysis of Farm Operations\n",
    "\n",
    "In this notebook I will collect information about the carbon footprint of different farm operations.\n",
    "\n",
    "### Tyler's vision:\n",
    "\n",
    "\"The simple model I want to build first is to take a Big Ag operation for wheat, and calculate the carbon lost from the soil by using non-regenerative practices, as well as the hypothetical carbon emissions from shipment. You could start with 1 acre, and trace it through the supply chain. So its 1) carbon loss for big ag farming compared to local ecosystem storage, 2) emissions to harvest wheat, 3) average emissions to ship wheat to largest cities in USA, based on percentage of shipment correlated with population of cities. And whatever else I have forgotten to mention, and then you can scale up from 1 acre accordingly. Then, I want to compare that with a regenerative farm shipping only to the nearest city. How much carbon emissions are avoided? How much carbon can be sequestered, and is this more than the surrounding ecosystem? What is the break even point to grow carbon neutral food? What would it take to be carbon negative? Those plots will be valuable to grow our business.\n",
    "\n",
    "The model should be able to scale up or down in acreage, shipping distance, and regenerative ag benefits. I want the model to include residential nanofarming at some point. I also want to show that if we reach X amount of acres of grain (or whatever), and shipping distance is reduced by X percent, and we get X gains from regenerative ag, what sort of impact can we have? We would have to develop a few variables to account for different regenerative practices (compost, no till, cover crop, silvopasture, native grassland, new trees, rotational grazing, etc). And then, if more people do this in other states, what sort of gain do we get.\""
   ]
  },
  {
   "cell_type": "markdown",
   "metadata": {},
   "source": [
    "### Carbon to track:\n",
    "\n",
    "#### Conventional system:\n",
    "- preparing field (tilling): fuel required per acre\n",
    "- effect of tilling on releasing soil carbon\n",
    "- planting seed: fuel required per acre, carbon required to transport seed to farm\n",
    "- applying fertilizer, herbicide, pesticide, fungicide, etc.: carbon required to produce and transport these inputs\n",
    "- growing plants: carbon sequestered\n",
    "- harvesting plants: fuel required to harvest\n",
    "\n",
    "#### Regenerative system:\n",
    "- planting seed: fuel required per acre, assume they harvest their own seeds so there is no seed transport\n",
    "- growing plants: carbon sequestered\n",
    "- harvesting plants: fuel required to harvest\n",
    "- cover crops: carbon sequestered the rest of the year by cover crops\n",
    "\n",
    "#### Distribution:\n",
    "- distance crop is shipped: fuel required to transport\n",
    "\n",
    "\n"
   ]
  },
  {
   "cell_type": "markdown",
   "metadata": {},
   "source": [
    "Start by initiating a farm operation: 1 acre of wheat farming."
   ]
  },
  {
   "cell_type": "code",
   "execution_count": 17,
   "metadata": {},
   "outputs": [],
   "source": [
    "# these are placeholder values since I haven't been a model yet to calculate\n",
    "con_wheat_emissions = 20    # carbon in tonnes CO2 equivalent per year per acre\n",
    "reg_wheat_emissions= -20   # carbon in tonnes CO2 equivalent per year per acre"
   ]
  },
  {
   "cell_type": "markdown",
   "metadata": {},
   "source": [
    "Calculate carbon emissions from non-regenerative practices using <a href='https://comet-farm.com/ActivityType/'> COMET-Farm model</a> from USDA. I selected a 1-acre parcel of land in Longmont, CO and said that it has been growing winter wheat since 2000, with intensive tillage and fertilizer application. For fun, in 2018, the farm switches to no-till and no fertilizer, but I'm really interested in the results for the baseline run from 2000-2018. What is the carbon footprint and emissions of this farm?\n",
    "\n",
    "The model timed out with this run. I'll have to go back and look more closely, but this will be helpful in creating some realistic placeholder values."
   ]
  },
  {
   "cell_type": "markdown",
   "metadata": {},
   "source": [
    "Create a function that calculates emissions based on agricultural practices. For now, this is just a placeholder and doesn't contain any actual calculations."
   ]
  },
  {
   "cell_type": "code",
   "execution_count": 4,
   "metadata": {},
   "outputs": [],
   "source": [
    "def grow_emissions(crop_area, crop_type, ag_practices):\n",
    "    if ag_practices == 'con':\n",
    "        if crop_type == 'wheat':\n",
    "            grow_co2 = crop_area * con_wheat_emissions\n",
    "    if ag_practices == 'reg':\n",
    "        if crop_type == 'wheat':\n",
    "            grow_co2 = crop_area * reg_wheat_emissions\n",
    "    return grow_co2"
   ]
  },
  {
   "cell_type": "markdown",
   "metadata": {},
   "source": [
    "Function to calculate emissions from harvest operations."
   ]
  },
  {
   "cell_type": "code",
   "execution_count": 13,
   "metadata": {},
   "outputs": [],
   "source": [
    "def harvest_emissions(crop_area, crop_type):\n",
    "    harvest_fuel = 2.5*crop_area  # 2.5 gallons of fuel to harvest 1 acre (placeholder)\n",
    "    harvest_co2 = harvest_fuel * 8.887*10**(-3)  # 8.887 × 10-3 metric tons CO2/gallon of gasoline (EPA, https://www.epa.gov/energy/greenhouse-gases-equivalencies-calculator-calculations-and-references)\n",
    "    return harvest_co2"
   ]
  },
  {
   "cell_type": "markdown",
   "metadata": {},
   "source": [
    "Function to calculate emissions from distribution."
   ]
  },
  {
   "cell_type": "code",
   "execution_count": 9,
   "metadata": {},
   "outputs": [],
   "source": [
    "def distribution_emissions(dist_distance, mpg_ship:\n",
    "    dist_fuel = dist_distance / mpg_dist\n",
    "    dist_co2 = dist_fuel * 8.887*10**(-3)  # 8.887 × 10-3 metric tons CO2/gallon of gasoline (EPA, https://www.epa.gov/energy/greenhouse-gases-equivalencies-calculator-calculations-and-references)\n",
    "    return dist_co2\n",
    "                           "
   ]
  },
  {
   "cell_type": "markdown",
   "metadata": {},
   "source": [
    "Calculate total emissions on farm A (conventional wheat):"
   ]
  },
  {
   "cell_type": "code",
   "execution_count": 18,
   "metadata": {},
   "outputs": [
    {
     "data": {
      "text/plain": [
       "20.170334166666667"
      ]
     },
     "execution_count": 18,
     "metadata": {},
     "output_type": "execute_result"
    }
   ],
   "source": [
    "crop_area = 1        # area given in acres\n",
    "crop_type = 'wheat'  # eventually, can choose between wheat and other crops\n",
    "ag_practices = 'con' # con (conventional) or reg (regenerative)\n",
    "mpg_ship = 30        # miles per gallon of transport vehicle\n",
    "dist_distance = 500  # distribution distance in miles\n",
    "\n",
    "farmA_grow_co2 = ag_emissions(crop_area, crop_type, ag_practices)\n",
    "farmA_harv_co2 = harvest_emissions(crop_area, crop_type)\n",
    "farmA_dist_co2 = distribution_emissions(dist_distance, mpg_ship)\n",
    "farmA_total_emissions = farmA_grow_co2 + farmA_harv_co2 + farmA_dist_co2\n",
    "farmA_total_emissions"
   ]
  },
  {
   "cell_type": "markdown",
   "metadata": {},
   "source": [
    "Calculate total emissions on farm B (regenerative, local wheat)"
   ]
  },
  {
   "cell_type": "code",
   "execution_count": 20,
   "metadata": {},
   "outputs": [
    {
     "data": {
      "text/plain": [
       "-19.971857833333335"
      ]
     },
     "execution_count": 20,
     "metadata": {},
     "output_type": "execute_result"
    }
   ],
   "source": [
    "crop_area = 1        # area given in acres\n",
    "crop_type = 'wheat'  # eventually, can choose between wheat and other crops\n",
    "ag_practices = 'reg' # con (conventional) or reg (regenerative)\n",
    "mpg_ship = 30        # miles per gallon of transport vehicle\n",
    "dist_distance = 20  # distribution distance in miles\n",
    "\n",
    "farmB_grow_co2 = ag_emissions(crop_area, crop_type, ag_practices)\n",
    "farmB_harv_co2 = harvest_emissions(crop_area, crop_type)\n",
    "farmB_dist_co2 = distribution_emissions(dist_distance, mpg_ship)\n",
    "farmB_total_emissions = farmB_grow_co2 + farmB_harv_co2 + farmB_dist_co2\n",
    "farmB_total_emissions"
   ]
  },
  {
   "cell_type": "code",
   "execution_count": null,
   "metadata": {},
   "outputs": [],
   "source": []
  }
 ],
 "metadata": {
  "kernelspec": {
   "display_name": "Python 3",
   "language": "python",
   "name": "python3"
  },
  "language_info": {
   "codemirror_mode": {
    "name": "ipython",
    "version": 3
   },
   "file_extension": ".py",
   "mimetype": "text/x-python",
   "name": "python",
   "nbconvert_exporter": "python",
   "pygments_lexer": "ipython3",
   "version": "3.7.4"
  }
 },
 "nbformat": 4,
 "nbformat_minor": 2
}
