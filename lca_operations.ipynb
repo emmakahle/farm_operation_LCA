{
 "cells": [
  {
   "cell_type": "markdown",
   "metadata": {},
   "source": [
    "# Life Cycle Analysis of Farm Operations\n",
    "\n",
    "In this notebook I will collect information about the carbon footprint of different farm operations.\n",
    "\n",
    "### Tyler's vision:\n",
    "\n",
    "\"The simple model I want to build first is to take a Big Ag operation for wheat, and calculate the carbon lost from the soil by using non-regenerative practices, as well as the hypothetical carbon emissions from shipment. You could start with 1 acre, and trace it through the supply chain. So its 1) carbon loss for big ag farming compared to local ecosystem storage, 2) emissions to harvest wheat, 3) average emissions to ship wheat to largest cities in USA, based on percentage of shipment correlated with population of cities. And whatever else I have forgotten to mention, and then you can scale up from 1 acre accordingly. Then, I want to compare that with a regenerative farm shipping only to the nearest city. How much carbon emissions are avoided? How much carbon can be sequestered, and is this more than the surrounding ecosystem? What is the break even point to grow carbon neutral food? What would it take to be carbon negative? Those plots will be valuable to grow our business.\n",
    "\n",
    "The model should be able to scale up or down in acreage, shipping distance, and regenerative ag benefits. I want the model to include residential nanofarming at some point. I also want to show that if we reach X amount of acres of grain (or whatever), and shipping distance is reduced by X percent, and we get X gains from regenerative ag, what sort of impact can we have? We would have to develop a few variables to account for different regenerative practices (compost, no till, cover crop, silvopasture, native grassland, new trees, rotational grazing, etc). And then, if more people do this in other states, what sort of gain do we get.\"\n",
    "\n",
    "In summary, we have on farm emissions (from growing and harvesting) and distribution emissions."
   ]
  },
  {
   "cell_type": "markdown",
   "metadata": {},
   "source": [
    "## Model Components\n",
    "\n",
    "### On farm emissions:\n",
    "- Tillage (fuel to prepare field, release of carbon from soil disturbance)\n",
    "- Planting seed (fuel to plant, carbon required to transport seed to farm)\n",
    "- Chemical inputs (fertilizer, herbicide, pesticide, fungicide: emissions from production, transport, application)\n",
    "- Compost\n",
    "- Growing plants (carbon sequestration - how does this depend on regen practices?)\n",
    "- Harvesting plants (fuel required to harvest)\n",
    "- Winter cover crops (fuel to plant, carbon sequestered)\n",
    "- Other practices to add (silvopasture, native grassland, new trees, rotational grazing)\n",
    "\n",
    "### Distribution emissions:\n",
    "- Number of locations shipped to\n",
    "- Distance of locations\n",
    "- Population (demand for product) in locations (more emissions to ship more product)\n",
    "\n",
    "## Model Structure\n",
    "\n",
    "On-farm emissions and distribution emissions are functions comprised of their components. Outputs for all functions are in metric Tons (1000 kg) CO2 equivalent per year per acre. To start, I will only consider a wheat crop as the main cash crop, but in the future this could be expanded.\n",
    "\n",
    "Report final emissions as co2 per acre to compare larger conventional, centralized operations with smaller regenerative, localized operations.\n"
   ]
  },
  {
   "cell_type": "markdown",
   "metadata": {},
   "source": [
    "## Model\n",
    "\n",
    "Start by defining parameters:"
   ]
  },
  {
   "cell_type": "code",
   "execution_count": 43,
   "metadata": {},
   "outputs": [],
   "source": [
    "# import packages\n",
    "import numpy as np\n",
    "\n",
    "# Set parameters for model run:\n",
    "\n",
    "# Farm options\n",
    "tillage = True      # choose True or False for each option\n",
    "fertilizer = True\n",
    "herbicide = True\n",
    "pesticide = True\n",
    "fungicide = True\n",
    "compost = False\n",
    "cover_crops = False\n",
    "rotational_grazing = False\n",
    "\n",
    "# Distribution options, can change defaults for centralized and local\n",
    "centralized = True     # choose True (centralized) or False (local operation)\n",
    "if centralized:\n",
    "    farm_area = 1000.      # number of acres\n",
    "    num_locations = 10.  # number of locations to distribute\n",
    "    avg_distance = 800.  # in miles, calculated from distribution ref #2 below for domestic transportation\n",
    "else:\n",
    "    farm_area = 10.\n",
    "    num_locations = 3.\n",
    "    avg_distance = 30. "
   ]
  },
  {
   "cell_type": "markdown",
   "metadata": {},
   "source": [
    "Function to combine farm emissions and distribution emissions:"
   ]
  },
  {
   "cell_type": "code",
   "execution_count": null,
   "metadata": {},
   "outputs": [],
   "source": [
    "def operation_emissions(farm_co2, distribution_co2):\n",
    "    total_co2 = farm_co2 + distribution_co2\n",
    "    return total_co2"
   ]
  },
  {
   "cell_type": "markdown",
   "metadata": {},
   "source": [
    "### Notes for farm model\n",
    "\n",
    "#### Assumptions:\n",
    "- 8.887 × 10-3 metric tons CO2/gallon of gasoline (2)\n",
    "\n",
    "- Tillage requires 2 gallons of fuel per acre (1)\n",
    "\n",
    "- Production of N fertilizer is far more energy intensive than P or K (1)\n",
    "- Emissions from production of N fertilizer is equivalent to 0.12 gallon of fuel/lb N (1)\n",
    "- Amount of N fertilizer is suggested as: Pounds of actual N = (1.33 x bushel potential) – 13 --> ~40 lbs N for expected 40 bushel yield (3)\n",
    "- Typically one application of N fertilizer is sufficient for wheat (3)\n",
    "- Gas requirements for many farm tasks are estimated by the Purdue Extension (4)\n",
    "- Carbon emissions from tilled soil versus no-tilled soil (5)\n",
    "\n",
    "#### Resources:\n",
    "1. <a href=\"https://www.google.com/url?sa=t&rct=j&q=&esrc=s&source=web&cd=&ved=2ahUKEwiz9pCwosftAhXUop4KHdF-DFAQFjABegQIBRAC&url=https%3A%2F%2Fstore.extension.iastate.edu%2FProduct%2FEnergy-consumption-for-row-crop-production-Farm-Energy-PDF&usg=AOvVaw3UyRwTjvASdzX0w1C-EBYN\">Energy Consumption Pamphlet (Iowa Extension)</a>\n",
    "2. <a href=\"https://www.epa.gov/energy/greenhouse-gases-equivalencies-calculator-calculations-and-references\">EPA Fuel to CO2</a>\n",
    "3. <a href=\"https://www.canr.msu.edu/news/applying_nitrogen_fertilizer_to_wheat\">Fertilizer Usage for Wheat (Michigan Extension)</a>\n",
    "4. <a href=\"https://www.extension.purdue.edu/extmedia/AE/AE-110.html\">Purdue Extension</a>\n",
    "5. <a href=\"https://sci-hub.se/https://doi.org/10.1023/A:1009766510274\">Reicosky 1997</a>"
   ]
  },
  {
   "cell_type": "markdown",
   "metadata": {},
   "source": [
    "Function to calculate farm emissions:"
   ]
  },
  {
   "cell_type": "code",
   "execution_count": null,
   "metadata": {},
   "outputs": [],
   "source": [
    "def farm_emissions(farm_area,tillage,fertilizer,herbicide,pesticide,fungicide,cover_crops):\n",
    "    farm_co2 = 0.   # start at zero\n",
    "    planting_emissions = 0.7 * 8.887*10**(-3)  # gallons converted to metric tons CO2 equiv (Purdue)\n",
    "    growing_emissions =       # negative emissions per acre of grown wheat (does this vary with regen practices?)\n",
    "    # for harvest emissions, account for base gas used to harvest and then estimate number of trips and distance required to transport harvested grain to edge of field, and determine the contribution of a single acre to that transport (Purdue)\n",
    "    harvest_emissions = (1.5+0.12*((1/25)*(np.sqrt(farm_area)/(2*25))))* 8.887*10**(-3) # 1.5 gallons is base harvest gas, then determine extra based on mileage: 1 mi per 25 sq acres stacked, 40 bu/acre, 1000 bu/truckload, each acre contributes to 1/25 of a truckload\n",
    "    farm_co2 = farm_co2 + planting_emissions + growing_emissions + harvest_emissions\n",
    "    if tillage:\n",
    "        fuel_emissions = 2 * 8.887*10**(-3)   # convert gallons to metric tons CO2 equivalent per acre\n",
    "        tilled_soil_emissions = 913. * 4046.86 * 10**(-6)  # g CO2/m2 converted to metric ton CO2/acre (Reicosky 1997)\n",
    "        farm_co2 = farm_co2 + fuel_emissions + tilled_soil_emissions\n",
    "    else:\n",
    "        no_tilled_soil_emissions = 183. * 4046.86 * 10**(-6)  # g CO2/m2 converted to metric ton CO2/acre (Reicosky 1997)\n",
    "        farm_co2 = farm_co2 + no_tilled_soil_emissions\n",
    "    if fertilizer:\n",
    "        N_lbs = (1.33*40)-13.  # pounds of nitrogen depends on expected number of bushels (40) per acre\n",
    "        N_production = N_lbs * 0.12 * 8.887*10**(-3)  # metric tons CO2 from producing nitrogen fertilizer per acre\n",
    "        if tillage:\n",
    "            N_application = 0.98 * 8.887*10**(-3)  # gallons converted to metric tons CO2 equiv (Purdue)\n",
    "        else:\n",
    "            N_application = 1.47 * 8.887*10**(-3)  # gallons converted to metric tons CO2 equiv (Purdue)\n",
    "        farm_co2 = farm_co2 + N_production + N_application\n",
    "    if herbicide:\n",
    "        herb_application = 0.21 * 8.887*10**(-3)  # gallons converted to metric tons CO2 equiv (Purdue for spraying herbicide)\n",
    "        farm_co2 = farm_co2 + X\n",
    "    if pesticide:\n",
    "        pest_application = 0.21 * 8.887*10**(-3)  # gallons converted to metric tons CO2 equiv (Purdue for spraying herbicide)\n",
    "        farm_co2 = farm_co2 + X\n",
    "    if fungicide:\n",
    "        fung_application = 0.21 * 8.887*10**(-3)  # gallons converted to metric tons CO2 equiv (Purdue for spraying herbicide)\n",
    "        farm_co2 = farm_co2 + X\n",
    "    if compost:\n",
    "        farm_co2 = farm_co2 + X\n",
    "    if cover_crops:\n",
    "        farm_co2 = farm_co2 + X\n",
    "    if rotational_grazing:\n",
    "        farm_co2 = farm_co2 + X\n",
    "    return farm_co2    # emissions per acre"
   ]
  },
  {
   "cell_type": "markdown",
   "metadata": {},
   "source": [
    "### Notes for distribution model\n",
    "\n",
    "#### Assumptions for model:\n",
    "\n",
    "- Type of transportation: average from 2001 - 2011 for domestic transportation of wheat was 67% by rail, 1% by barge, 32% by truck (1)\n",
    "- Average distance transported: 800 miles (2)\n",
    "- Freight trucks get 140 ton-mi/gallon, freight trains get 468 ton-mi/gallon (3)\n",
    "- 1 acre of land produces 40 bushels of wheat (4)\n",
    "- Centralized systems will use combination of trucks and trains to ship wheat, local systems will just use trucks\n",
    "- Trucks can carry 40 tons, and trains can carry 10,000 tons (110-car train, 350,000 bushels, 60 lb/bushel) (verified from a few different google searches, no official source for this estimate)\n",
    "- Assume trucks and trains are always fully loaded\n",
    "- 8.887 × 10-3 metric tons CO2/gallon of gasoline (5)\n",
    "\n",
    "#### Resources:\n",
    "1. <a href = \"https://www.ams.usda.gov/sites/default/files/media/Wheat%20Transportation%20Profile.pdf\">USDA report on transportation of wheat</a>\n",
    "2. <a href=\"https://www.google.com/url?sa=t&rct=j&q=&esrc=s&source=web&cd=&ved=2ahUKEwijquSXs8TtAhWKtJ4KHQHuB1oQFjAKegQIARAC&url=https%3A%2F%2Fageconsearch.umn.edu%2Frecord%2F161208%2Ffiles%2FGrain%2520Shipment%2520Sizes.pdf&usg=AOvVaw3YWNokNdEDOtH0Td36GGsg\">Grain Shipment Sizes Report (USDA)</a>\n",
    "3. <a href=\"https://www.google.com/url?sa=t&rct=j&q=&esrc=s&source=web&cd=&ved=2ahUKEwjcnYnwucTtAhVOvZ4KHUbOB4AQFjABegQIBhAC&url=https%3A%2F%2Fwww.conservationfund.org%2Fimages%2Fprograms%2Ffiles%2FCSX_Final-Curriculum.pdf&usg=AOvVaw3WliGt1HvwjS9wzEysF2hB\">Conservation Fund Exercise</a>\n",
    "4. <a href=\"https://www.ers.usda.gov/webdocs/publications/43783/39922_eib116_summary.pdf?v=0\">US Wheat Production (USDA)</a>\n",
    "5. <a href=\"https://www.epa.gov/energy/greenhouse-gases-equivalencies-calculator-calculations-and-references\">EPA Fuel to CO2</a>"
   ]
  },
  {
   "cell_type": "markdown",
   "metadata": {},
   "source": [
    "Function to calculate distribution emissions:"
   ]
  },
  {
   "cell_type": "code",
   "execution_count": 32,
   "metadata": {},
   "outputs": [],
   "source": [
    "def distribution_emissions(centralized,num_locations,avg_distance,farm_area):\n",
    "    wheat_weight = farm_area * 40. * 60. /2000       # in US Tons (40 bushels per acre and 60 lbs per bushel)\n",
    "    if centralized:  \n",
    "        train_mpg = (468./wheat_weight)    # account for amount of weight being transported\n",
    "        truck_mpg = (140./wheat_weight) \n",
    "        mpg = .67*train_mpg+.33*truck_mpg     # 67% transport by trains, 33% transport by trucks\n",
    "    else:\n",
    "        mpg = 140/wheat_weight      # only use trucks to ship locally\n",
    "    fuel = avg_distance/mpg * num_locations\n",
    "    distribution_co2_peracre = fuel * 8.887*10**(-3) / farm_area  # convert gallons to co2 and normalize by farm area\n",
    "    return distribution_co2_peracre"
   ]
  },
  {
   "cell_type": "markdown",
   "metadata": {},
   "source": [
    "### Play with distribution model!\n",
    "\n",
    "Compare the distribution emissions from large and small operations."
   ]
  },
  {
   "cell_type": "code",
   "execution_count": 40,
   "metadata": {
    "scrolled": true
   },
   "outputs": [
    {
     "name": "stdout",
     "output_type": "stream",
     "text": [
      "Big Operation emits 1.78 metric tons CO2 per acre from distribution\n",
      "Small Operation emits 0.01 metric tons CO2 per acre from distribution\n"
     ]
    }
   ],
   "source": [
    "big_dist= distribution_emissions(True,20,3000,100)    # (centralized,num_locations,avg_distance,farm_area)\n",
    "small_dist = distribution_emissions(False,3,30,10)\n",
    "\n",
    "print('''Big Operation emits {0:.2f} metric tons CO2 per acre from distribution\n",
    "Small Operation emits {1:.2f} metric tons CO2 per acre from distribution'''.format(big_dist,small_dist))"
   ]
  },
  {
   "cell_type": "markdown",
   "metadata": {},
   "source": [
    "It's difficult to find real-world estimates to compare this to, but <a href=\"https://ourworldindata.org/food-ghg-emissions\">Our World in Data</a> reports that food transport emissions account of 6% of global emissions. What else could I look at to get a sense of how reasonable the above numbers are?"
   ]
  },
  {
   "cell_type": "code",
   "execution_count": null,
   "metadata": {},
   "outputs": [],
   "source": []
  },
  {
   "cell_type": "code",
   "execution_count": null,
   "metadata": {},
   "outputs": [],
   "source": []
  },
  {
   "cell_type": "code",
   "execution_count": null,
   "metadata": {},
   "outputs": [],
   "source": []
  },
  {
   "cell_type": "code",
   "execution_count": null,
   "metadata": {},
   "outputs": [],
   "source": []
  },
  {
   "cell_type": "markdown",
   "metadata": {},
   "source": [
    "### Old Work..."
   ]
  },
  {
   "cell_type": "code",
   "execution_count": null,
   "metadata": {},
   "outputs": [],
   "source": [
    "# start co2 tracker\n",
    "farm_co2 = farm_emissions(farm_area,tillage,fertilizer,herbicide,pesticide,fungicide,cover_crops)\n",
    "distribution_co2 = distribution_emissions(centralized)\n",
    "track_co2 = operation_emissions(farm_co2, distribution_co2)\n",
    "\n"
   ]
  },
  {
   "cell_type": "markdown",
   "metadata": {},
   "source": [
    "Start by initiating a farm operation: 1 acre of wheat farming."
   ]
  },
  {
   "cell_type": "code",
   "execution_count": 17,
   "metadata": {},
   "outputs": [],
   "source": [
    "# these are placeholder values since I haven't been a model yet to calculate\n",
    "con_wheat_emissions = 20    # carbon in tonnes CO2 equivalent per year per acre\n",
    "reg_wheat_emissions= -20   # carbon in tonnes CO2 equivalent per year per acre"
   ]
  },
  {
   "cell_type": "markdown",
   "metadata": {},
   "source": [
    "Calculate carbon emissions from non-regenerative practices using <a href='https://comet-farm.com/ActivityType/'> COMET-Farm model</a> from USDA. I selected a 1-acre parcel of land in Longmont, CO and said that it has been growing winter wheat since 2000, with intensive tillage and fertilizer application. For fun, in 2018, the farm switches to no-till and no fertilizer, but I'm really interested in the results for the baseline run from 2000-2018. What is the carbon footprint and emissions of this farm?\n",
    "\n",
    "The model timed out with this run. I'll have to go back and look more closely, but this will be helpful in creating some realistic placeholder values."
   ]
  },
  {
   "cell_type": "markdown",
   "metadata": {},
   "source": [
    "Create a function that calculates emissions based on agricultural practices. For now, this is just a placeholder and doesn't contain any actual calculations."
   ]
  },
  {
   "cell_type": "code",
   "execution_count": 4,
   "metadata": {},
   "outputs": [],
   "source": [
    "def grow_emissions(crop_area, crop_type, ag_practices):\n",
    "    if ag_practices == 'con':\n",
    "        if crop_type == 'wheat':\n",
    "            grow_co2 = crop_area * con_wheat_emissions\n",
    "    if ag_practices == 'reg':\n",
    "        if crop_type == 'wheat':\n",
    "            grow_co2 = crop_area * reg_wheat_emissions\n",
    "    return grow_co2"
   ]
  },
  {
   "cell_type": "markdown",
   "metadata": {},
   "source": [
    "Function to calculate emissions from harvest operations."
   ]
  },
  {
   "cell_type": "code",
   "execution_count": 13,
   "metadata": {},
   "outputs": [],
   "source": [
    "def harvest_emissions(crop_area, crop_type):\n",
    "    harvest_fuel = 2.5*crop_area  # 2.5 gallons of fuel to harvest 1 acre (placeholder)\n",
    "    harvest_co2 = harvest_fuel * 8.887*10**(-3)  # 8.887 × 10-3 metric tons CO2/gallon of gasoline (EPA, https://www.epa.gov/energy/greenhouse-gases-equivalencies-calculator-calculations-and-references)\n",
    "    return harvest_co2"
   ]
  },
  {
   "cell_type": "markdown",
   "metadata": {},
   "source": [
    "Function to calculate emissions from distribution."
   ]
  },
  {
   "cell_type": "code",
   "execution_count": 9,
   "metadata": {},
   "outputs": [],
   "source": [
    "def distribution_emissions(dist_distance, mpg_ship:\n",
    "    dist_fuel = dist_distance / mpg_dist\n",
    "    dist_co2 = dist_fuel * 8.887*10**(-3)  # 8.887 × 10-3 metric tons CO2/gallon of gasoline (EPA, https://www.epa.gov/energy/greenhouse-gases-equivalencies-calculator-calculations-and-references)\n",
    "    return dist_co2\n",
    "                           "
   ]
  },
  {
   "cell_type": "markdown",
   "metadata": {},
   "source": [
    "Calculate total emissions on farm A (conventional wheat):"
   ]
  },
  {
   "cell_type": "code",
   "execution_count": 18,
   "metadata": {},
   "outputs": [
    {
     "data": {
      "text/plain": [
       "20.170334166666667"
      ]
     },
     "execution_count": 18,
     "metadata": {},
     "output_type": "execute_result"
    }
   ],
   "source": [
    "crop_area = 1        # area given in acres\n",
    "crop_type = 'wheat'  # eventually, can choose between wheat and other crops\n",
    "ag_practices = 'con' # con (conventional) or reg (regenerative)\n",
    "mpg_ship = 30        # miles per gallon of transport vehicle\n",
    "dist_distance = 500  # distribution distance in miles\n",
    "\n",
    "farmA_grow_co2 = ag_emissions(crop_area, crop_type, ag_practices)\n",
    "farmA_harv_co2 = harvest_emissions(crop_area, crop_type)\n",
    "farmA_dist_co2 = distribution_emissions(dist_distance, mpg_ship)\n",
    "farmA_total_emissions = farmA_grow_co2 + farmA_harv_co2 + farmA_dist_co2\n",
    "farmA_total_emissions"
   ]
  },
  {
   "cell_type": "markdown",
   "metadata": {},
   "source": [
    "Calculate total emissions on farm B (regenerative, local wheat)"
   ]
  },
  {
   "cell_type": "code",
   "execution_count": 20,
   "metadata": {},
   "outputs": [
    {
     "data": {
      "text/plain": [
       "-19.971857833333335"
      ]
     },
     "execution_count": 20,
     "metadata": {},
     "output_type": "execute_result"
    }
   ],
   "source": [
    "crop_area = 1        # area given in acres\n",
    "crop_type = 'wheat'  # eventually, can choose between wheat and other crops\n",
    "ag_practices = 'reg' # con (conventional) or reg (regenerative)\n",
    "mpg_ship = 30        # miles per gallon of transport vehicle\n",
    "dist_distance = 20  # distribution distance in miles\n",
    "\n",
    "farmB_grow_co2 = ag_emissions(crop_area, crop_type, ag_practices)\n",
    "farmB_harv_co2 = harvest_emissions(crop_area, crop_type)\n",
    "farmB_dist_co2 = distribution_emissions(dist_distance, mpg_ship)\n",
    "farmB_total_emissions = farmB_grow_co2 + farmB_harv_co2 + farmB_dist_co2\n",
    "farmB_total_emissions"
   ]
  },
  {
   "cell_type": "code",
   "execution_count": null,
   "metadata": {},
   "outputs": [],
   "source": []
  }
 ],
 "metadata": {
  "kernelspec": {
   "display_name": "Python 3",
   "language": "python",
   "name": "python3"
  },
  "language_info": {
   "codemirror_mode": {
    "name": "ipython",
    "version": 3
   },
   "file_extension": ".py",
   "mimetype": "text/x-python",
   "name": "python",
   "nbconvert_exporter": "python",
   "pygments_lexer": "ipython3",
   "version": "3.8.5"
  }
 },
 "nbformat": 4,
 "nbformat_minor": 2
}
